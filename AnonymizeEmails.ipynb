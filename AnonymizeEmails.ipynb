{
 "cells": [
  {
   "cell_type": "markdown",
   "metadata": {},
   "source": [
    "# Clean Data for Anonymization\n",
    "\n",
    "Author:     Andreas Barth, SF6-S-OG  \n",
    "Version:    1.2, 28.8.2020  \n",
    "\n",
    "ChangeLog:  ...  \n",
    "\n",
    "Platform:   HSDAP  \n",
    "\n",
    "Purpose:    Script to read in Email-Data from Source Dataframes and apply preprocessing for data anonymization purposes.  \n",
    "  \n",
    "Steps:  \n",
    "\n",
    "0. Imports & Functions  \n",
    "1. Read data from pickled dataframe  \n",
    "2. Cleaning & Preprocessing  \n"
   ]
  },
  {
   "cell_type": "markdown",
   "metadata": {},
   "source": [
    "### 0. Imports"
   ]
  },
  {
   "cell_type": "code",
   "execution_count": 2,
   "metadata": {},
   "outputs": [
    {
     "data": {
      "text/plain": [
       "'3.0.6'"
      ]
     },
     "execution_count": 2,
     "metadata": {},
     "output_type": "execute_result"
    }
   ],
   "source": [
    "import spacy\n",
    "spacy.__version__"
   ]
  },
  {
   "cell_type": "code",
   "execution_count": 5,
   "metadata": {},
   "outputs": [],
   "source": [
    "#LMpath = '/home/q506010/0_LM/DE230MD/de_core_news_md/de_core_news_md-2.3.0' # Deutsches LM mit NER u. POS\n",
    "LMpath = '/Users/andreas/Downloads/de_core_news_md-2.3.0/de_core_news_md/de_core_news_md-2.3.0'\n",
    "# nlp = spacy.load(LMpath)\n",
    "# tokenizer = Tokenizer(nlp.vocab)\n"
   ]
  },
  {
   "cell_type": "code",
   "execution_count": 9,
   "metadata": {},
   "outputs": [
    {
     "ename": "ModuleNotFoundError",
     "evalue": "No module named 'BmwBankTools'",
     "output_type": "error",
     "traceback": [
      "\u001b[0;31m---------------------------------------------------------------------------\u001b[0m",
      "\u001b[0;31mModuleNotFoundError\u001b[0m                       Traceback (most recent call last)",
      "\u001b[1;32m/Volumes/Alpamayo/Projects/Matterhorn/AnonymizeEmails.ipynb Zelle 5\u001b[0m in \u001b[0;36m<module>\u001b[0;34m\u001b[0m\n\u001b[1;32m      <a href='vscode-notebook-cell:/Volumes/Alpamayo/Projects/Matterhorn/AnonymizeEmails.ipynb#ch0000019?line=1'>2</a>\u001b[0m os\u001b[39m.\u001b[39mchdir(\u001b[39m'\u001b[39m\u001b[39m/Volumes/Alpamayo/Projects/Matterhorn/BmwBankTools\u001b[39m\u001b[39m'\u001b[39m)\n\u001b[1;32m      <a href='vscode-notebook-cell:/Volumes/Alpamayo/Projects/Matterhorn/AnonymizeEmails.ipynb#ch0000019?line=2'>3</a>\u001b[0m os\u001b[39m.\u001b[39mlistdir()\n\u001b[0;32m----> <a href='vscode-notebook-cell:/Volumes/Alpamayo/Projects/Matterhorn/AnonymizeEmails.ipynb#ch0000019?line=3'>4</a>\u001b[0m \u001b[39mfrom\u001b[39;00m \u001b[39mBmwBankTools\u001b[39;00m\u001b[39m.\u001b[39;00m\u001b[39mdownloadTools\u001b[39;00m \u001b[39mimport\u001b[39;00m \u001b[39m*\u001b[39m\n",
      "\u001b[0;31mModuleNotFoundError\u001b[0m: No module named 'BmwBankTools'"
     ]
    }
   ],
   "source": [
    "workDir = os.getcwd()\n",
    "os.chdir('/Volumes/Alpamayo/Projects/Matterhorn/BmwBankTools')\n",
    "os.listdir()\n",
    "from BmwBankTools.downloadTools import * \n",
    "# from BmwBankTools.cleanEmails import * \n",
    "# os.chdir(workDir)"
   ]
  },
  {
   "cell_type": "code",
   "execution_count": 2,
   "metadata": {},
   "outputs": [
    {
     "name": "stdout",
     "output_type": "stream",
     "text": [
      "3.7.7 (default, May  7 2020, 21:25:33) \n",
      "[GCC 7.3.0] utf-8\n",
      "Spacy Version: 2.3.1\n"
     ]
    },
    {
     "data": {
      "text/plain": [
       "'/home/q506010/1_GAA_Data'"
      ]
     },
     "execution_count": 2,
     "metadata": {},
     "output_type": "execute_result"
    }
   ],
   "source": [
    "# ==================  GENERAL PACKAGES ==============================\n",
    "import pandas as pd\n",
    "import numpy as np\n",
    "import datetime as dt\n",
    "import os, re, string, sys, warnings\n",
    "from IPython.core.interactiveshell import InteractiveShell\n",
    "import matplotlib\n",
    "from matplotlib import pyplot as plt\n",
    "\n",
    "# ===========================================================\n",
    "workDir = os.getcwd()\n",
    "os.chdir('/home/q506010/0_Packages')\n",
    "from BmwBankTools.downloadTools import * \n",
    "from BmwBankTools.cleanEmails import * \n",
    "os.chdir(workDir)\n",
    "\n",
    "# ==================  SPACY =========================================\n",
    "import spacy\n",
    "from spacy.tokenizer import Tokenizer\n",
    "from spacy import displacy\n",
    "from spacy.lang.de import German\n",
    "LMpath = '/home/q506010/0_LM/DE230MD/de_core_news_md/de_core_news_md-2.3.0' # Deutsches LM mit NER u. POS\n",
    "nlp = spacy.load(LMpath)\n",
    "tokenizer = Tokenizer(nlp.vocab)\n",
    "\n",
    "# ==================  Settings  =====================================\n",
    "%matplotlib inline\n",
    "pd.set_option('display.max_colwidth', 200)\n",
    "np.random.seed(4711)\n",
    "InteractiveShell.ast_node_interactivity = \"all\"\n",
    "plt.style.use('ggplot')\n",
    "%colors LightBG\n",
    "LINIE = \"-\"*150\n",
    "\n",
    "# ==================  Print to Console ==============================\n",
    "print(sys.version, sys.getdefaultencoding())\n",
    "print(\"Spacy Version:\", spacy.__version__)\n",
    "os.getcwd()"
   ]
  },
  {
   "cell_type": "markdown",
   "metadata": {},
   "source": [
    "***\n",
    "### 1. Execute\n",
    "\n",
    "#### Toy Examples"
   ]
  },
  {
   "cell_type": "code",
   "execution_count": 2,
   "metadata": {},
   "outputs": [
    {
     "name": "stdout",
     "output_type": "stream",
     "text": [
      "Original:\n",
      " Lorem Steuernummer=> 111/202/32660  Steuer-ID=> 49 166 582 708,DE88 7007 0022 0777 6224 01 <==IBAN PersoAusweis=> CFG7C61HR 11Ziffern=> 12345678901 ipsum dolor sit amet, consetetur 123456 sadipscing elitr, 12.234,20 € sed diam 1234 nonumy eirmod 12345 tempor Karl Heinz Huber invidunt ut 123456 labore et Q 506010. 1234567 dolore Kennz. DON-Z1200 magna 12345678 aliquyam erat, sed diam voluptua. +49 1520 6951832 At vero eos et accusam et justo duo dolores et 8.453 EUR Mandatsreferenz Credit: CF312544393001  ea rebum. Stet clita CN41443 kasd 12345678 gubergren, no Kennzeichen: M KZ 778 sea takimata sanctus 3.1.79 4263.5401.1605.6630 est (0911)81237720  klaus.BB.klaus@bmw.com 434€ Lorem ipsum dolor sit q506010,amet. Lorem 4263 5401 1605 6630  ipsum dolor sit amet, 111/202/32660 6. April 2020 CGW81NMCW consetetur sadipscing  elitr, LGW8WVH54 sed diam 22.78.79 nonumy 123456789 eirmod 069/447 554-305 tempor geboren 42635401.1605.6630 am 3.1.1970 invidunt 31.12.20 WBAAS71040CH47394,WBAPR31000A822972,WBAFY41070BX82615, ut labore et dolore M KZ 778 magna 04.05.1977 aliquyam erat, 4.5.3005 M-KZ7785 .5.sed diam voluptua. DE76720000000072001505 Barth.andreas@web.de DiesiseinWorthmitsiebzehnZeichenodermehr At LGW8WVH54LGW8WVH54vero eos et accusam et q-506010,justo duo DE88 7007 0022 0777 6224 01 dolores et ea rebum. Stet clitaLGW8WVH54 1234-99.Gogo.Hans@gmail.uk kasd gubergren, Mandatsreferenz Leasing: LC0001X05601849  lgw8wvh54 no sea takimata sanctus est CFG7667FJ Lorem ipsum dolor sit amet 111 / 202 / 32660. CN41443  \n",
      " ------------------------------------------------------------------------------------------------------------------------------------------------------\n",
      "RGX:\n",
      " Lorem Steuernummer=> 1 <TAXNBR>   Steuer-ID=>  <TAXNBR> , <IBAN>  <==IBAN PersoAusweis=>  <PASSPORT>  11Ziffern=>  <TAXNBR>  ipsum dolor sit amet, consetetur  <666666>  sadipscing elitr, 12.234,20 € sed diam 1234 nonumy eirmod  <PLZ>  tempor Karl Heinz Huber invidunt ut  <666666>  labore et Q 5 <TELFAX> .  <7777777>  dolore Kennz.  <KFZKZ> magna  <88888888>  aliquyam erat, sed diam voluptua.  <TELFAX>  At vero eos et accusam et justo duo dolores et 8.453 EUR Mandatsreferenz Credit:  <MREFCR>   ea rebum. Stet clita  <VIN>  kasd  <88888888>  gubergren, no Kennzeichen:  <KFZKZ> sea takimata sanctus  <DATUM>  4263.5401.1605.6630 est  <TELFAX>    <EMAIL>  434€ Lorem ipsum dolor sit q5 <TELFAX> ,amet. Lorem 4263 5401 1605 6630  ipsum dolor sit amet, 1 <TAXNBR>  6. April 2020  <PASSPORT>  consetetur sadipscing  elitr,  <PASSPORT>  sed diam 22.78.79 nonumy  <999999999>  eirmod  <TELFAX> -305 tempor geboren  <88888888> .1605.6630 am  <DATUM>  invidunt  <DATUM>   <VIN> , <VIN> , <VIN> , ut labore et dolore  <KFZKZ> magna  <DATUM>  aliquyam erat, 4.5.3005  <KFZKZ>  . <URL>  diam voluptua.  <IBAN>   <EMAIL>  DiesiseinWorthmitsiebzehnZeichenodermehr At LGW8WVH54LGW8WVH54vero eos et accusam et q-5 <TELFAX> ,justo duo  <IBAN>  dolores et ea rebum. Stet clitaLGW8WVH54  <EMAIL>  kasd gubergren, Mandatsreferenz Leasing:  <MREFLS>   lgw8wvh54 no sea takimata sanctus est  <PASSPORT>  Lorem ipsum dolor sit amet 111 / 202 /  <PLZ> .  <VIN> \n",
      " ------------------------------------------------------------------------------------------------------------------------------------------------------\n",
      "NER:\n",
      " Lorem Steuernummer=> 1 <TAXNBR>   Steuer-ID=>  <TAXNBR> , <IBAN>  <==IBAN PersoAusweis=>  <PASSPORT>  11Ziffern=>  <TAXNBR>  ipsum dolor sit amet, consetetur  <666666>  sadipscing elitr, 12.234,20 € sed diam 1234 nonumy eirmod  <PLZ>  tempor <PER> invidunt ut  <666666>  labore et Q 5 <TELFAX> .  <7777777>  dolore Kennz.  <KFZKZ> magna  <88888888>  aliquyam erat, sed diam voluptua.  <TELFAX>  At vero eos et accusam et justo duo dolores et 8.453 EUR Mandatsreferenz Credit:  <MREFCR>   ea rebum. <PER>  <VIN>  kasd  <88888888>  gubergren, no Kennzeichen:  <KFZKZ> sea takimata sanctus  <DATUM>  4263.5401.1605.6630 est  <TELFAX>    <EMAIL>  434€ Lorem ipsum dolor sit q5 <TELFAX> ,amet. Lorem 4263 5401 1605 6630  ipsum dolor sit amet, 1 <TAXNBR>  6. April 2020  <PASSPORT>  consetetur sadipscing  <LOC>,  <PASSPORT>  sed diam 22.78.79 nonumy  <999999999>  eirmod  <TELFAX> -305 tempor geboren  <88888888> .1605.6630 am  <DATUM>  invidunt  <DATUM>   <VIN> , <VIN> , <VIN> , ut labore et dolore  <KFZKZ> magna  <DATUM>  aliquyam erat, 4.5.3005  <KFZKZ>  . <URL>  diam voluptua.  <IBAN>   <EMAIL>  DiesiseinWorthmitsiebzehnZeichenodermehr At LGW8WVH54LGW8WVH54vero eos et accusam et q-5 <TELFAX> ,justo duo  <IBAN>  dolores et ea rebum. Stet clitaLGW8WVH54  <EMAIL>  kasd gubergren, Mandatsreferenz Leasing:  <MREFLS>   lgw8wvh54 no sea takimata sanctus est  <PASSPORT>  Lorem ipsum dolor sit amet 111 / 202 /  <PLZ> .  <VIN> \n",
      " ------------------------------------------------------------------------------------------------------------------------------------------------------\n"
     ]
    }
   ],
   "source": [
    "email = \"Lorem Steuernummer=> 111/202/32660  Steuer-ID=> 49 166 582 708,DE88 7007 0022 0777 6224 01 <==IBAN PersoAusweis=> CFG7C61HR 11Ziffern=> 12345678901 ipsum dolor sit amet, consetetur 123456 sadipscing elitr, 12.234,20 € sed diam 1234 nonumy eirmod 12345 tempor Karl Heinz Huber invidunt ut 123456 labore et Q 506010. 1234567 dolore Kennz. DON-Z1200 magna 12345678 aliquyam erat, sed diam voluptua. +49 1520 6951832 At vero eos et accusam et justo duo dolores et 8.453 EUR Mandatsreferenz Credit: CF312544393001  ea rebum. Stet clita CN41443 kasd 12345678 gubergren, no Kennzeichen: M KZ 778 sea takimata sanctus 3.1.79 4263.5401.1605.6630 est (0911)81237720  klaus.BB.klaus@bmw.com 434€ Lorem ipsum dolor sit q506010,amet. Lorem 4263 5401 1605 6630  ipsum dolor sit amet, 111/202/32660 6. April 2020 CGW81NMCW consetetur sadipscing  elitr, LGW8WVH54 sed diam 22.78.79 nonumy 123456789 eirmod 069/447 554-305 tempor geboren 42635401.1605.6630 am 3.1.1970 invidunt 31.12.20 WBAAS71040CH47394,WBAPR31000A822972,WBAFY41070BX82615, ut labore et dolore M KZ 778 magna 04.05.1977 aliquyam erat, 4.5.3005 M-KZ7785 .5.sed diam voluptua. DE76720000000072001505 Barth.andreas@web.de DiesiseinWorthmitsiebzehnZeichenodermehr At LGW8WVH54LGW8WVH54vero eos et accusam et q-506010,justo duo DE88 7007 0022 0777 6224 01 dolores et ea rebum. Stet clitaLGW8WVH54 1234-99.Gogo.Hans@gmail.uk kasd gubergren, Mandatsreferenz Leasing: LC0001X05601849  lgw8wvh54 no sea takimata sanctus est CFG7667FJ Lorem ipsum dolor sit amet 111 / 202 / 32660. CN41443 \"\n",
    "\n",
    "print(\"Original:\\n\",email,\"\\n\",LINIE)\n",
    "\n",
    "m = CleanRGX(email)\n",
    "print(\"RGX:\\n\",m,\"\\n\",LINIE)\n",
    "\n",
    "# m = CleanPLZ(m); print(\"Bereinigt PLZ: \\n\",m,\"\\n\",linie)\n",
    "m = CleanNER(m)\n",
    "print(\"NER:\\n\",m,\"\\n\",LINIE)"
   ]
  },
  {
   "cell_type": "code",
   "execution_count": 4,
   "metadata": {},
   "outputs": [
    {
     "name": "stdout",
     "output_type": "stream",
     "text": [
      "Original:\n",
      " Sehr geehrte Damen und Herren, wir haben im Juli für unseren Sohn Markus Huber, mh228.huber@gmail.com, ein Festgeldkonto mit der Nr. 5745788596 eröffnet. Hallo Team BMW Bank, bitte ändern Sie meine Adresse in Langemarckstraße 2, 86609 Donauwörth. Wir haben den Wagen DON-Z1200, Fahrgestellnummer WBAAS71040CH43894 am 13.3.2020 an die Schmidt Stahl GmbH, Frau Maria Bock verkauft. Meine Schwester Sabine Frankfurt, Personalausweis Nr. LGW8WVH54 holt das Fahrzeug beim Autohaus Mahag in Frankfurt ab. \n",
      " ------------------------------------------------------------------------------------------------------------------------------------------------------\n",
      "RGX:\n",
      " Sehr geehrte Damen und Herren, wir haben im Juli für unseren Sohn Markus Huber,  <EMAIL> , ein Festgeldkonto mit der Nr.  <1010101010>  eröffnet. Hallo Team BMW Bank, bitte ändern Sie meine Adresse in Langemarckstraße 2,  <PLZ>  Donauwörth. Wir haben den Wagen  <KFZKZ> , Fahrgestellnummer  <VIN>  am  <DATUM>  an die Schmidt Stahl GmbH, Frau Maria Bock verkauft. Meine Schwester Sabine Frankfurt, Personalausweis Nr.  <PASSPORT>  holt das Fahrzeug beim Autohaus Mahag in Frankfurt ab. \n",
      " ------------------------------------------------------------------------------------------------------------------------------------------------------\n",
      "NER:\n",
      " Sehr geehrte Damen und Herren, wir haben im Juli für unseren <PER>,  <EMAIL> , ein Festgeldkonto mit der Nr.  <1010101010>  eröffnet. Hallo Team <ORG>, bitte ändern Sie meine Adresse in <LOC> 2,  <PLZ>  <LOC>. Wir haben den Wagen  <KFZKZ> , Fahrgestellnummer  <VIN>  am  <DATUM>  an die <ORG>, Frau <PER> verkauft. Meine Schwester <PER>, Personalausweis Nr.  <PASSPORT>  holt das Fahrzeug beim <ORG> in <LOC> ab. \n",
      " ------------------------------------------------------------------------------------------------------------------------------------------------------\n"
     ]
    }
   ],
   "source": [
    "e1 = \"Sehr geehrte Damen und Herren, wir haben im Juli für unseren Sohn Markus Huber, mh228.huber@gmail.com, ein Festgeldkonto mit der Nr. 5745788596 eröffnet.\"\n",
    "e2 = \"Hallo Team BMW Bank, bitte ändern Sie meine Adresse in Langemarckstraße 2, 86609 Donauwörth.\"\n",
    "e3 = \"Wir haben den Wagen DON-Z1200, Fahrgestellnummer WBAAS71040CH43894 am 13.3.2020 an die Schmidt Stahl GmbH, Frau Maria Bock verkauft.\"\n",
    "e4 = \"Meine Schwester Sabine Frankfurt, Personalausweis Nr. LGW8WVH54 holt das Fahrzeug beim Autohaus Mahag in Frankfurt ab.\"\n",
    "mails = \" \".join([e1,e2,e3,e4])\n",
    "\n",
    "print(\"Original:\\n\",mails,\"\\n\",LINIE)\n",
    "m = CleanRGX(mails); print(\"RGX:\\n\",m,\"\\n\",LINIE)\n",
    "# m = CleanPLZ(m); print(\"Bereinigt PLZ: \\n\",m,\"\\n\",linie)\n",
    "m = CleanNER(m); print(\"NER:\\n\",m,\"\\n\",LINIE)\n"
   ]
  },
  {
   "cell_type": "markdown",
   "metadata": {},
   "source": [
    "#### Auf GAA Daten angewendet"
   ]
  },
  {
   "cell_type": "code",
   "execution_count": 4,
   "metadata": {},
   "outputs": [
    {
     "name": "stdout",
     "output_type": "stream",
     "text": [
      "<class 'pandas.core.frame.DataFrame'>\n",
      "Int64Index: 11347 entries, 0 to 13691\n",
      "Data columns (total 3 columns):\n",
      " #   Column    Non-Null Count  Dtype \n",
      "---  ------    --------------  ----- \n",
      " 0   DOKUTYPE  11347 non-null  object\n",
      " 1   SUBJECT   11347 non-null  object\n",
      " 2   BODY      11347 non-null  object\n",
      "dtypes: object(3)\n",
      "memory usage: 354.6+ KB\n"
     ]
    },
    {
     "data": {
      "text/html": [
       "<div>\n",
       "<style scoped>\n",
       "    .dataframe tbody tr th:only-of-type {\n",
       "        vertical-align: middle;\n",
       "    }\n",
       "\n",
       "    .dataframe tbody tr th {\n",
       "        vertical-align: top;\n",
       "    }\n",
       "\n",
       "    .dataframe thead th {\n",
       "        text-align: right;\n",
       "    }\n",
       "</style>\n",
       "<table border=\"1\" class=\"dataframe\">\n",
       "  <thead>\n",
       "    <tr style=\"text-align: right;\">\n",
       "      <th></th>\n",
       "      <th>DOKUTYPE</th>\n",
       "      <th>SUBJECT</th>\n",
       "      <th>BODY</th>\n",
       "    </tr>\n",
       "  </thead>\n",
       "  <tbody>\n",
       "    <tr>\n",
       "      <th>0</th>\n",
       "      <td>Anschreiben</td>\n",
       "      <td>Ratenzahlung/ 684616/921884</td>\n",
       "      <td>Sehr geehrte Damen und Herren,\\r\\n\\r\\nanbei übersenden ich Ihnen die unterschriebene Ratenzahlungsvereinbarung.\\r\\n</td>\n",
       "    </tr>\n",
       "    <tr>\n",
       "      <th>1</th>\n",
       "      <td>Anschreiben</td>\n",
       "      <td>Finanzierung 3122258277 - Lambert</td>\n",
       "      <td>Sehr geehrte Damen und Herren, \\n\\n \\n\\nich zeige an, dass ich von Herrn Knut Lambert, Geschäftsführer der Consilium Gesellschaft für Informationstechnologie mbH, Weidkamp 180, 45356 Essen, generalbevollmächtigt wurde (Vollmacht anbei). \\n\\n \\n\\nLeider ist Herr</td>\n",
       "    </tr>\n",
       "    <tr>\n",
       "      <th>2</th>\n",
       "      <td>Anfrage_Vertragsaenderung</td>\n",
       "      <td>AW: Kundenbetreuung/Finanzierung/Kezban Türkmen</td>\n",
       "      <td>Sehr geehrte Damen und Herren \\n  Ich hatte um eine Pausierung des Beitrages gebeten. Nun ist es mir möglich wie gewohnt die monatlichen Beiträge zu bezahlen.  Sie können ab Mai 2020 normal abbuchen. Ich bedanke mich für Ihr Verständnis. \\n\\n Mit freundlic</td>\n",
       "    </tr>\n",
       "    <tr>\n",
       "      <th>3</th>\n",
       "      <td>Anschreiben</td>\n",
       "      <td>Rückantwort Ratenzahlung</td>\n",
       "      <td>\\n\\n \\n\\n \\n\\n\\n\\n \\n\\nSehr geehrte\\n\\n \\n\\nMit Freundlichen Grüßen &amp; bleiben Sie gesund\\n\\nOlaf Bakowski\\n\\nGinsheimer Straße 18\\n\\n65468 Trebur\\n\\nTelefon +49 (0)6147/91 96 40\\n\\nFAX        +49 (0)3222 37 40 533\\n\\nMobil  +49 (0)171/752 14 40\\n\\nE-Mail: olaf.bakowski@obako.de &lt;m</td>\n",
       "    </tr>\n",
       "    <tr>\n",
       "      <th>4</th>\n",
       "      <td>Allgemein_Banking</td>\n",
       "      <td>Dokumente Jasmin Schmid</td>\n",
       "      <td>Sehr geehrte Damen und Herren,\\r\\n\\r\\nanbei sende ich Ihnen wie bereits telefonisch besprochen die Dokumente zur\\r\\nNamens-, Adressänderung und Kennwortvereinbarung zu.\\r\\n\\r\\nBitte senden Sie mir eine Bestätigung über den Erhalt und der Richtigkeit zu.\\r\\n\\r\\nVielen</td>\n",
       "    </tr>\n",
       "  </tbody>\n",
       "</table>\n",
       "</div>"
      ],
      "text/plain": [
       "                    DOKUTYPE                                          SUBJECT  \\\n",
       "0                Anschreiben                      Ratenzahlung/ 684616/921884   \n",
       "1                Anschreiben                Finanzierung 3122258277 - Lambert   \n",
       "2  Anfrage_Vertragsaenderung  AW: Kundenbetreuung/Finanzierung/Kezban Türkmen   \n",
       "3                Anschreiben                         Rückantwort Ratenzahlung   \n",
       "4          Allgemein_Banking                          Dokumente Jasmin Schmid   \n",
       "\n",
       "                                                                                                                                                                                                                                                                                         BODY  \n",
       "0                                                                                                                                                                         Sehr geehrte Damen und Herren,\\r\\n\\r\\nanbei übersenden ich Ihnen die unterschriebene Ratenzahlungsvereinbarung.\\r\\n  \n",
       "1                      Sehr geehrte Damen und Herren, \\n\\n \\n\\nich zeige an, dass ich von Herrn Knut Lambert, Geschäftsführer der Consilium Gesellschaft für Informationstechnologie mbH, Weidkamp 180, 45356 Essen, generalbevollmächtigt wurde (Vollmacht anbei). \\n\\n \\n\\nLeider ist Herr   \n",
       "2                            Sehr geehrte Damen und Herren \\n  Ich hatte um eine Pausierung des Beitrages gebeten. Nun ist es mir möglich wie gewohnt die monatlichen Beiträge zu bezahlen.  Sie können ab Mai 2020 normal abbuchen. Ich bedanke mich für Ihr Verständnis. \\n\\n Mit freundlic  \n",
       "3   \\n\\n \\n\\n \\n\\n\\n\\n \\n\\nSehr geehrte\\n\\n \\n\\nMit Freundlichen Grüßen & bleiben Sie gesund\\n\\nOlaf Bakowski\\n\\nGinsheimer Straße 18\\n\\n65468 Trebur\\n\\nTelefon +49 (0)6147/91 96 40\\n\\nFAX        +49 (0)3222 37 40 533\\n\\nMobil  +49 (0)171/752 14 40\\n\\nE-Mail: olaf.bakowski@obako.de <m  \n",
       "4                Sehr geehrte Damen und Herren,\\r\\n\\r\\nanbei sende ich Ihnen wie bereits telefonisch besprochen die Dokumente zur\\r\\nNamens-, Adressänderung und Kennwortvereinbarung zu.\\r\\n\\r\\nBitte senden Sie mir eine Bestätigung über den Erhalt und der Richtigkeit zu.\\r\\n\\r\\nVielen   "
      ]
     },
     "execution_count": 4,
     "metadata": {},
     "output_type": "execute_result"
    }
   ],
   "source": [
    "pd.set_option('display.max_colwidth', 300)\n",
    "df = pd.read_pickle('dfCheckAnonymizer.pkl')\n",
    "df.columns = [col.upper() for col in df.columns.tolist()]\n",
    "df.info()\n",
    "# test = df.iloc[:,[1,2]].sample(20).copy()\n",
    "df.head()"
   ]
  },
  {
   "cell_type": "code",
   "execution_count": 5,
   "metadata": {},
   "outputs": [
    {
     "name": "stdout",
     "output_type": "stream",
     "text": [
      "<class 'pandas.core.frame.DataFrame'>\n",
      "Int64Index: 11347 entries, 0 to 13691\n",
      "Data columns (total 4 columns):\n",
      " #   Column      Non-Null Count  Dtype \n",
      "---  ------      --------------  ----- \n",
      " 0   DOKUTYPE    11347 non-null  object\n",
      " 1   SUBJECT     11347 non-null  object\n",
      " 2   BODY        11347 non-null  object\n",
      " 3   BODY_CLEAN  11347 non-null  object\n",
      "dtypes: object(4)\n",
      "memory usage: 443.2+ KB\n"
     ]
    }
   ],
   "source": [
    "# df = test.copy()\n",
    "\n",
    "df = CleanREPLACE(df)\n",
    "df[\"SUBJECT\"] = df.SUBJECT.apply(CleanRGX)\n",
    "df[\"SUBJECT\"] = df.SUBJECT.apply(CleanNER)\n",
    "df[\"BODY_CLEAN\"] = df.BODY_CLEAN.apply(CleanRGX)\n",
    "df[\"BODY_CLEAN\"] = df.BODY_CLEAN.apply(CleanNER)\n",
    "\n",
    "df.info()"
   ]
  },
  {
   "cell_type": "code",
   "execution_count": null,
   "metadata": {},
   "outputs": [],
   "source": [
    "mask = df.body_clean.str.contains(\"<TRIM EOFT>\")\n",
    "mask.sum()\n",
    "df.loc[mask,\"body_clean\"].sample(20)"
   ]
  },
  {
   "cell_type": "code",
   "execution_count": null,
   "metadata": {},
   "outputs": [],
   "source": [
    "df.subject.sample(30)"
   ]
  },
  {
   "cell_type": "code",
   "execution_count": null,
   "metadata": {},
   "outputs": [],
   "source": [
    "df.body_clean.sample(30)"
   ]
  },
  {
   "cell_type": "code",
   "execution_count": null,
   "metadata": {},
   "outputs": [],
   "source": [
    "df.subject.sample(50)"
   ]
  },
  {
   "cell_type": "code",
   "execution_count": null,
   "metadata": {},
   "outputs": [],
   "source": [
    "pd.set_option('display.max_colwidth', None)\n",
    "df.iloc[:,[0,2]]"
   ]
  },
  {
   "cell_type": "code",
   "execution_count": null,
   "metadata": {},
   "outputs": [],
   "source": []
  },
  {
   "cell_type": "code",
   "execution_count": null,
   "metadata": {},
   "outputs": [],
   "source": [
    "df.loc[7516,[\"body\", \"body_clean\"]]"
   ]
  },
  {
   "cell_type": "markdown",
   "metadata": {},
   "source": [
    "## Parkplatz"
   ]
  }
 ],
 "metadata": {
  "kernelspec": {
   "display_name": "Python 3.8.8 ('base')",
   "language": "python",
   "name": "python3"
  },
  "language_info": {
   "codemirror_mode": {
    "name": "ipython",
    "version": 3
   },
   "file_extension": ".py",
   "mimetype": "text/x-python",
   "name": "python",
   "nbconvert_exporter": "python",
   "pygments_lexer": "ipython3",
   "version": "3.8.8"
  },
  "vscode": {
   "interpreter": {
    "hash": "c9c8fef052fb3679eeff7308c061236b8a5b7e4986256111e650fa4e553c1ca4"
   }
  }
 },
 "nbformat": 4,
 "nbformat_minor": 4
}
