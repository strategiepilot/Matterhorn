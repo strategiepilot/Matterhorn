{
 "cells": [
  {
   "cell_type": "markdown",
   "metadata": {},
   "source": [
    "# Build Email Corpus UNLABELD for AI Training \n",
    "\n",
    "Author:     Andreas Barth, SF6-S-OG  \n",
    "Version:    1.0, 3.9.2020  \n",
    "\n",
    "Platform:   HSDAP  \n",
    "\n",
    "Purpose:    Script to consolidate numerous Dataframes to a Dataframe Email-Corpus with unlabeled Email-Data.\n",
    "            Preprocessing: Decoding, Blacklist-Filtering, Data-Cleansing/Anonymisation\n",
    "\n",
    "Data:       Emails from BMW Bank Outlook Mailserver bmw.bank@bmw.de, persisted in pickled dataframes on HSDAP\n",
    "\n",
    "Output:     Consolidated & cleansed Email-Corpus, persisted in pickled Dataframe for further model training\n",
    "  \n",
    "Steps:  \n",
    "\n",
    "0. Imports & Functions  \n",
    "1. Konsolidierten Dataframe erstellen\n",
    "2. Enkodierung ermitteln und Dekodieren\n",
    "3. Blacklisting-Filter\n",
    "4. Data Cleaning / Anonymisierung\n"
   ]
  },
  {
   "cell_type": "code",
   "execution_count": 1,
   "metadata": {},
   "outputs": [
    {
     "name": "stdout",
     "output_type": "stream",
     "text": [
      "3.7.7 (default, May  7 2020, 21:25:33) \n",
      "[GCC 7.3.0] utf-8\n",
      "Spacy Version: 2.3.1\n"
     ]
    },
    {
     "data": {
      "text/plain": [
       "'/home/q506010'"
      ]
     },
     "execution_count": 1,
     "metadata": {},
     "output_type": "execute_result"
    }
   ],
   "source": [
    "import os\n",
    "\n",
    "# ==================== BMW-Bank Funktionen ============================\n",
    "workDir = os.getcwd()\n",
    "os.chdir('/home/q506010/0_Packages')\n",
    "from BmwBankTools.downloadTools import * \n",
    "from BmwBankTools.cleanEmails import * \n",
    "os.chdir(workDir)\n",
    "\n",
    "# ==================  Settings  =====================================\n",
    "from IPython.core.interactiveshell import InteractiveShell\n",
    "%matplotlib inline\n",
    "pd.set_option('display.max_colwidth', 200)\n",
    "np.random.seed(4711)\n",
    "InteractiveShell.ast_node_interactivity = \"all\"\n",
    "plt.style.use('ggplot')\n",
    "%colors LightBG\n",
    "LINIE = \"-\"*150\n",
    "# ==================  Print to Console ==============================\n",
    "print(sys.version, sys.getdefaultencoding())\n",
    "print(\"Spacy Version:\", spacy.__version__)\n",
    "os.getcwd()"
   ]
  },
  {
   "cell_type": "markdown",
   "metadata": {},
   "source": [
    "***\n",
    "### Execute"
   ]
  },
  {
   "cell_type": "markdown",
   "metadata": {},
   "source": [
    "### 1. Konsolidierten Dataframe erstellen\n",
    "\n",
    "+ Alle Dataframes einzeln laden und mit df.append zusammenfassen\n",
    "    + KW27: 5.7.2020; 5079 Records mit 16 Spalten // Keine validen Files-Informationen, keine SpecFiles Spalten\n",
    "    + KW28: 12.07.2020; 4929 Records mit 18 Spalten\n",
    "    + KW29: 16.07.2020; 603 Records mit 18 Spalten // Ab dieser Woche Umstellung auf tägl. Reset der Mailbox, daher \"nur\" 603 Datensätze für KW29 \n",
    "    + Ab 20.7. tägliches Clearing des \"Importiert Ordners\" auf bmw.bank@bmw.de"
   ]
  },
  {
   "cell_type": "code",
   "execution_count": null,
   "metadata": {},
   "outputs": [],
   "source": [
    "dataDir = '/home/q506010/1_ReadEmails'\n",
    "os.chdir(dataDir)\n",
    "\n",
    "FL = sorted([f for f in os.listdir() if \".pkl\" in f\n",
    "            and \"Mailcontainer_\" in f and \"-2020\" in f])\n",
    "\n",
    "FL.remove('Mailcontainer_05-07-2020.pkl')\n",
    "df = pd.read_pickle('Mailcontainer_05-07-2020.pkl')\n",
    "df.shape\n",
    "\n",
    "for f in FL:\n",
    "    tmp = pd.read_pickle(f)\n",
    "    df = df.append(tmp)      \n",
    "    print(f\"Adding {tmp.shape[0]} records from {f[-14:]}. Total = {df.shape[0]}\")\n",
    "\n",
    "df.shape\n",
    "doubles = df.duplicated(\"MESSAGE_ID\").sum()\n",
    "print(f\"Dubletten: {doubles}\")\n",
    "df.drop_duplicates(\"MESSAGE_ID\", inplace=True)\n",
    "df.shape; df.info()"
   ]
  },
  {
   "cell_type": "code",
   "execution_count": null,
   "metadata": {},
   "outputs": [],
   "source": [
    "df.to_pickle(\"EmailCorpus_UL_2909.pkl\")"
   ]
  },
  {
   "cell_type": "markdown",
   "metadata": {},
   "source": [
    "***\n",
    "### 2. MC_ALL PreProcessing\n",
    "\n",
    "2.0 MC_ALL Raw-Format laden (.pkl) & redundante Spalten entfernen (#FILES, MID, TYPE, UMID,TMSTP, CTE, )\n",
    "\n",
    "2.1 Irrelevante Datensätze entfernen / BLACKLISTING FILTER\n",
    "\n",
    "2.3 Email-Body DECODING\n",
    "+ Encoding Detection für alle Emails mit ENCODING == \"unknown\"\n",
    "+ Update der ENCODING-Spalte mit der Information aus der Encoding Detection\n",
    "+ Decoding des Email-Body's anhand der Encoding-Info aus der Spalte ENCODING => Neue Spalte BODY_DC\n",
    "\n",
    "2.4 Email-Cleansing\n",
    "+ Replace: Anrede und Gruß/Abschied ersetzen\n",
    "+ Replace: .replace(\"\\r\\n\", \" \")\n",
    "+ Replace: .replace(\"\\t\", \" \")\n",
    "\n"
   ]
  },
  {
   "cell_type": "markdown",
   "metadata": {},
   "source": [
    "#### 2.0 Email-Corpus im Raw-Format laden (.pkl) & redundante Spalten entfernen\n",
    "Irrelevante Spalten: (#FILES, MID, TYPE, UMID,TMSTP, CTE, )"
   ]
  },
  {
   "cell_type": "code",
   "execution_count": null,
   "metadata": {},
   "outputs": [],
   "source": [
    "[f for f in os.listdir() if \"EmailCorpus_\" in f and \"pkl\" in f]"
   ]
  },
  {
   "cell_type": "code",
   "execution_count": null,
   "metadata": {},
   "outputs": [],
   "source": [
    "corpus = \"EmailCorpus_UL_2909.pkl\"\n",
    "df = pd.read_pickle(corpus)\n",
    "df.reset_index(inplace=True)\n",
    "DropCols = [\"index\",\"MID\", \"TYPE\", \"TO\", \"CC\", \"NBR_FILES\", \"FILES\", \"UMID\", \"TMSTMP\", \"CTE\"]\n",
    "df.drop(DropCols, axis=1, inplace=True)\n",
    "df.shape; df.head()"
   ]
  },
  {
   "cell_type": "markdown",
   "metadata": {},
   "source": [
    "#### 2.1 Irrelevante Datensätze entfernen\n",
    "+ Blacklist Filter\n",
    "+ Sonstige Absender ausfiltern\n",
    "+ Sonstige irrelevante Einträge ausfiltern (best. Betreffzeilen)\n"
   ]
  },
  {
   "cell_type": "code",
   "execution_count": null,
   "metadata": {},
   "outputs": [],
   "source": [
    "# 2.1 (a) BLACKLIST FILTER\n",
    "\n",
    "df.shape\n",
    "BLACKLIST = loadBlacklist()\n",
    "# [j for i,j in enumerate(BLACKLIST) if i <5]\n",
    "\n",
    "filter_BL = df.FROM.apply(lambda x: checkBlacklist(x, BLACKLIST))\n",
    "print(f\"Blacklistcheck hat {filter_BL.sum()} kritische Absender ermittelt\")\n",
    "\n",
    "df = df.loc[filter_BL == False,:]\n",
    "print(f\"{filter_BL.sum()} Kritische Absender entfernt, {filter_BL.mean():.1%}\"); df.shape"
   ]
  },
  {
   "cell_type": "code",
   "execution_count": null,
   "metadata": {},
   "outputs": [],
   "source": [
    "# 2.1 (b) Sonstige Absender ausfiltern\n",
    "\n",
    "# meinfs@bmw.de             => Onlineformular\n",
    "# Empfangbank@bmw.de        => Eingescanntes Eingangsfax als Anhang\n",
    "# PkwPartnerWebsite@bmw.de  => Mitteilung einer Adressï¿½nderung\n",
    "# werkstatt@11880.com       => Websitegenerierte Anfrage, Body nicht lesbar\n",
    "# SF6-RPA-PROD@bmw.de       => Durch BMW Bank Roboter generiert\n",
    "# no-reply@bmw.com          => User Request Data from BMW Website\n",
    "# rsv_vertrag@bmw.de        => RSV-Kündigungen oder -Widerrufe von Credit Life\n",
    "# FSExtranet@bmw.de         => Anforderung Ablöseangebot Fremdbestand\n",
    "# noreply-bmw.bank@bmw.de   => Autom. Antwort von BMW Bank \"Ihre Email ist eingegangen, ...\"\n",
    "# kundenbetreuung@bmw.de\n",
    "\n",
    "notRelevantSenders = set(['meinfs@bmw.de', 'NoReply Kundenportal Mein BMW Financial Services <meinfs@bmw.de>',\n",
    "                      'Empfangbank@bmw.de', 'Empfangbank <Empfangbank@bmw.de>',\n",
    "                      '<bmw.bank@bmw.de>',\n",
    "                      'Mail Delivery System <noreply@ces.cisco.com>',\n",
    "                      'Microsoft Outlook\\r\\n\\t<MicrosoftExchange329e71ec88ae4615bbc36ab6ce41109e@bmwmail.corp>',\n",
    "                      'PkwPartnerWebsite@bmw.de', '<PkwPartnerWebsite@bmw.de>',\n",
    "                      'werkstatt@11880.com',\n",
    "                      'SF6-RPA-PROD@bmw.de', 'SF6-RPA-PROD <SF6-RPA-PROD@bmw.de>',\n",
    "                      'no-reply@bmw.de','noreply-bmw.bank@bmw.de','\"noreply-bmw.bank@bmw.de\" <noreply-bmw.bank@bmw.de>',\n",
    "                      'BMW Website <no-reply@bmw.com>',\n",
    "                      'rsv_vertrag@bmw.de', 'rsv_vertrag <rsv_vertrag@bmw.de>',\n",
    "                      '\"Tagesspiegel Morgenlage Politik\" <politik@morgenlage.tagesspiegel.de>',\n",
    "                      'FSExtranet@bmw.de',\n",
    "                      'kundenbetreuung@bmw.de', 'BMW Kundenbetreuung <kundenbetreuung@bmw.de>',\n",
    "                     ])\n",
    "\n",
    "dropRows = df.FROM.isin(notRelevantSenders)\n",
    "dropRows.sum()\n",
    "df = df.loc[dropRows == False,:]; df.shape"
   ]
  },
  {
   "cell_type": "code",
   "execution_count": null,
   "metadata": {},
   "outputs": [],
   "source": [
    "# # 2.1 (c) Emails mit irrelevanten Betreffzeilen ausfiltern:      \n",
    "filter_1 = set(df[df.SUBJECT == \"Kontaktanfrage Internet Auftritt Banking\"].index);    len(filter_1)\n",
    "filter_2 = set(df[df.SUBJECT == \"Eingang einer Kontaktanfrage\"].index);                len(filter_2)\n",
    "in_scope = set(df.index).difference(filter_1, filter_2);  \n",
    "\n",
    "df = df.loc[in_scope,:]                                                          \n",
    "df.shape"
   ]
  },
  {
   "cell_type": "code",
   "execution_count": null,
   "metadata": {},
   "outputs": [],
   "source": [
    "dfSIK = df.copy()"
   ]
  },
  {
   "cell_type": "markdown",
   "metadata": {},
   "source": [
    "#### 2.2 Dekodierung\n",
    "+ Encoding ermitteln\n",
    "+ Dekodierung des Email-Body"
   ]
  },
  {
   "cell_type": "code",
   "execution_count": null,
   "metadata": {},
   "outputs": [],
   "source": [
    "# 2.2 (a) Encoding Detection\n",
    "print(f\"Ermittle Encoding für {df.shape[0]} Datensätze ...\")\n",
    "df = detectEncodingDF(df)\n",
    "df.shape\n",
    "dfSIK2 = df.copy()\n",
    "print(f\"... finished\")"
   ]
  },
  {
   "cell_type": "code",
   "execution_count": null,
   "metadata": {},
   "outputs": [],
   "source": [
    "filename = \"EmailCorpus_UL_2909_ENC.pkl\"\n",
    "dfSIK2.to_pickle(filename)"
   ]
  },
  {
   "cell_type": "code",
   "execution_count": null,
   "metadata": {},
   "outputs": [],
   "source": [
    "dataDir = '/home/q506010/1_ReadEmails'\n",
    "os.chdir(dataDir)\n",
    "filename = \"EmailCorpus_UL_2909_ENC.pkl\"\n",
    "df = pd.read_pickle(filename)"
   ]
  },
  {
   "cell_type": "code",
   "execution_count": null,
   "metadata": {},
   "outputs": [],
   "source": [
    "df.FROM.value_counts()[:20]"
   ]
  },
  {
   "cell_type": "code",
   "execution_count": null,
   "metadata": {},
   "outputs": [],
   "source": [
    "df.shape\n",
    "df.ENCODING.value_counts(dropna=False)\n",
    "df.ENCPROPOSAL.value_counts(dropna=False)\n",
    "(df.ENCPROPOSAL.str.upper() == df.ENCODING.str.upper()).sum()"
   ]
  },
  {
   "cell_type": "code",
   "execution_count": null,
   "metadata": {},
   "outputs": [],
   "source": [
    "# 2.2 (b) Dekodierung\n",
    "# df = pd.read_pickle(\"EmailCorpus_EncDetected.pkl\")\n",
    "df = decodeEmailCorpus(df)\n",
    "df.shape"
   ]
  },
  {
   "cell_type": "code",
   "execution_count": null,
   "metadata": {},
   "outputs": [],
   "source": [
    "df.BODY_DC.sample(5)"
   ]
  },
  {
   "cell_type": "code",
   "execution_count": null,
   "metadata": {},
   "outputs": [],
   "source": [
    "dfSIK2 = df.copy()\n",
    "fn = \"EmailCorpus_UL_2909_DECODED.pkl\"\n",
    "dfSIK2.to_pickle(fn)"
   ]
  },
  {
   "cell_type": "markdown",
   "metadata": {},
   "source": [
    "### 3. Anonymisierung"
   ]
  },
  {
   "cell_type": "code",
   "execution_count": 2,
   "metadata": {},
   "outputs": [],
   "source": [
    "dataDir = '/home/q506010/1_ReadEmails'\n",
    "os.chdir(dataDir)\n",
    "fn = \"EmailCorpus_UL_2909_DECODED.pkl\"\n",
    "\n",
    "df = pd.read_pickle(fn)\n",
    "df = df.iloc[:,[1, 2, 3, 4, 12, 6, 7, 8 ]].copy()\n",
    "df.columns = ['DATE', 'TIME', 'FROM', 'SUBJECT', 'BODY', 'MESSAGE_ID', 'SPECFILES', 'NBR_SPECFILES']\n",
    "\n",
    "# df.SUBJECT.isna().sum()\n",
    "# df.SUBJECT.dtype\n",
    "# df.BODY.isna().sum()\n",
    "# df.BODY.dtype"
   ]
  },
  {
   "cell_type": "code",
   "execution_count": null,
   "metadata": {},
   "outputs": [],
   "source": [
    "df.BODY.str.split().str.len().describe(percentiles=[.9, .95, .99])"
   ]
  },
  {
   "cell_type": "code",
   "execution_count": 3,
   "metadata": {},
   "outputs": [
    {
     "data": {
      "text/plain": [
       "count    28997.000000\n",
       "mean      2105.188088\n",
       "std       2404.611110\n",
       "min          0.000000\n",
       "50%       1223.000000\n",
       "90%       5663.000000\n",
       "95%       7837.200000\n",
       "99%      10000.000000\n",
       "max      10000.000000\n",
       "Name: BODY, dtype: float64"
      ]
     },
     "execution_count": 3,
     "metadata": {},
     "output_type": "execute_result"
    }
   ],
   "source": [
    "max_BodyLength = 10_000\n",
    "df.BODY = df.BODY.apply(lambda txt: txt[:max_BodyLength])\n",
    "df.BODY.str.len().describe(percentiles=[.9, .95, .99])"
   ]
  },
  {
   "cell_type": "code",
   "execution_count": 4,
   "metadata": {},
   "outputs": [
    {
     "name": "stdout",
     "output_type": "stream",
     "text": [
      "0:22:39.121914\n"
     ]
    }
   ],
   "source": [
    "start = dt.datetime.now()\n",
    "\n",
    "df = CleanREPLACE(df)\n",
    "\n",
    "# Regex Anonymizer Funktion aufrufen\n",
    "df.SUBJECT      = df.SUBJECT.apply(CleanRGX)\n",
    "df.BODY_CLEAN   = df.BODY_CLEAN.apply(CleanRGX)\n",
    "\n",
    "# Spacy Anonymizer Funktion aufrufen\n",
    "df.SUBJECT    = df.SUBJECT.apply(CleanNER)\n",
    "df.BODY_CLEAN = df.BODY_CLEAN.apply(CleanNER)\n",
    "print(dt.datetime.now()-start)\n",
    "\n"
   ]
  },
  {
   "cell_type": "code",
   "execution_count": 5,
   "metadata": {},
   "outputs": [],
   "source": [
    "fn = \"EmailCorpus_UL_2909_ANONYMIZED.pkl\"\n",
    "df.to_pickle(fn)"
   ]
  },
  {
   "cell_type": "code",
   "execution_count": null,
   "metadata": {},
   "outputs": [],
   "source": []
  },
  {
   "cell_type": "code",
   "execution_count": null,
   "metadata": {},
   "outputs": [],
   "source": [
    "df2.BODY.str.len().describe(percentiles=[.8, .9, .95, .99])"
   ]
  },
  {
   "cell_type": "markdown",
   "metadata": {},
   "source": [
    "### Work on Sliced Dataframe for memory efficiency"
   ]
  },
  {
   "cell_type": "code",
   "execution_count": null,
   "metadata": {},
   "outputs": [],
   "source": [
    "dataDir = '/home/q506010/1_ReadEmails'\n",
    "os.chdir(dataDir)\n",
    "fn = \"EmailCorpus_UL_2909_TEMP1.pkl\"\n",
    "\n",
    "slice1 = 10_000\n",
    "slice2 = 20_000\n",
    "\n",
    "df = pd.read_pickle(fn)\n",
    "df2 = df.iloc[:slice1,:].copy()\n",
    "df2.info()\n",
    "\n",
    "del df"
   ]
  },
  {
   "cell_type": "code",
   "execution_count": null,
   "metadata": {},
   "outputs": [],
   "source": []
  },
  {
   "cell_type": "code",
   "execution_count": null,
   "metadata": {},
   "outputs": [],
   "source": [
    "\n",
    "df[\"BODY_CLEAN\"] = df.BODY_CLEAN.apply(CleanNER)\n",
    "\n",
    "duration = dt.datetime.now()-start\n",
    "df.info()"
   ]
  },
  {
   "cell_type": "code",
   "execution_count": null,
   "metadata": {},
   "outputs": [],
   "source": [
    "df.loc[df.SUBJECT==\"ANONYMIZATION FAILED\", :].shape[0]"
   ]
  },
  {
   "cell_type": "code",
   "execution_count": null,
   "metadata": {},
   "outputs": [],
   "source": []
  },
  {
   "cell_type": "code",
   "execution_count": null,
   "metadata": {},
   "outputs": [],
   "source": []
  },
  {
   "cell_type": "code",
   "execution_count": null,
   "metadata": {},
   "outputs": [],
   "source": []
  },
  {
   "cell_type": "code",
   "execution_count": null,
   "metadata": {},
   "outputs": [],
   "source": []
  },
  {
   "cell_type": "markdown",
   "metadata": {},
   "source": [
    "# Parkplatz"
   ]
  },
  {
   "cell_type": "code",
   "execution_count": null,
   "metadata": {},
   "outputs": [],
   "source": []
  },
  {
   "cell_type": "code",
   "execution_count": null,
   "metadata": {},
   "outputs": [],
   "source": [
    "df.SUBJECT.str.len().mean()                                           # Durchschnittliche Anz. Zeichen im Email-Betreff\n",
    "df.SUBJECT.str.split().apply(lambda wortliste: len(wortliste)).mean() # Durchschnittliche Anz. Wörter im Email-Betreff\n",
    "\n",
    "df.BODY.str.len().mean()                                              # Durchschnittliche Anz. Zeichen im Email-Body\n",
    "df.BODY.str.split().apply(lambda wortliste: len(wortliste)).mean()    # Durchschnittliche Anz. Wörter im Email-Body"
   ]
  },
  {
   "cell_type": "code",
   "execution_count": null,
   "metadata": {},
   "outputs": [],
   "source": [
    "searchstring = 'Microsoft Outlook\\r\\n\\t<MicrosoftExchange329e71ec88ae4615bbc36ab6ce41109e@bmwmail.corp>'\n",
    "df.loc[df.FROM.str.contains(searchstring),[\"FROM\",\"SUBJECT\",\"BODY\"]].sample(5)"
   ]
  },
  {
   "cell_type": "code",
   "execution_count": null,
   "metadata": {},
   "outputs": [],
   "source": [
    "pd.set_option('display.max_colwidth', 200)\n",
    "df.BODY_DC.sample(50)"
   ]
  },
  {
   "cell_type": "code",
   "execution_count": null,
   "metadata": {},
   "outputs": [],
   "source": [
    "saveMAILCONTAINER_2disk(MC_ALL, filename=\"MC_ALL_INCL_KW29_\" )"
   ]
  },
  {
   "cell_type": "code",
   "execution_count": null,
   "metadata": {},
   "outputs": [],
   "source": [
    "MC1.BODY.sample(3)"
   ]
  },
  {
   "cell_type": "code",
   "execution_count": null,
   "metadata": {},
   "outputs": [],
   "source": [
    "MC1[\"ENCTMP\"] = MC1.BODY.apply(lambda body: detectEncodingTXT(body)) "
   ]
  },
  {
   "cell_type": "code",
   "execution_count": null,
   "metadata": {},
   "outputs": [],
   "source": [
    "MC2 = MC.copy()\n",
    "MC2 = detectEncodingDF(MC2)\n",
    "\n",
    "# MC1[]"
   ]
  },
  {
   "cell_type": "code",
   "execution_count": null,
   "metadata": {},
   "outputs": [],
   "source": []
  },
  {
   "cell_type": "code",
   "execution_count": null,
   "metadata": {},
   "outputs": [],
   "source": [
    "privDom = [\"eplus.de\", \"kabelmail.de\", \"aol.com\", \"aol.de\", \"freenet.de\",\"t-online.de\", \"telekom.de\" \"arcor.de\", \"kabel.de\", \"ionos.de\", \"gmail.de\", \"gmail.com\",\n",
    "           \"icloud.de\", \"icloud.com\", \"gmx.de\", \"gmx.com\", \"web.de\", \"yahoo.de\", \"yahoo.com\", \"outlook.de\", \"outlook.com\", \"mail.de\"]\n",
    "\n",
    "filter_privDom = MC.FROM.apply(lambda sender: any([dom in str.lower(sender) for dom in privDom]))\n",
    "\n",
    "bmwDom = [\"bmw.de\", \"partner.bmw.de\"]\n",
    "filter_bmwDom = MC.FROM.apply(lambda sender: any([dom in str.lower(sender) for dom in bmwDom]))\n",
    "\n",
    "MC[filter_privDom].shape\n",
    "MC[filter_bmwDom].shape\n",
    "             \n",
    "MC.FROM[filter_bmwDom].value_counts()[:20]"
   ]
  },
  {
   "cell_type": "code",
   "execution_count": null,
   "metadata": {},
   "outputs": [],
   "source": []
  },
  {
   "cell_type": "code",
   "execution_count": null,
   "metadata": {},
   "outputs": [],
   "source": [
    "MC.FROM.apply(lambda sender: \"meinfs@bmw.de\" in sender).sum()"
   ]
  },
  {
   "cell_type": "code",
   "execution_count": null,
   "metadata": {},
   "outputs": [],
   "source": [
    "MC.FROM[MC.FROM.apply(lambda sender: any(\"meinfs@bmw.de\" in ].shape"
   ]
  },
  {
   "cell_type": "code",
   "execution_count": null,
   "metadata": {},
   "outputs": [],
   "source": []
  },
  {
   "cell_type": "code",
   "execution_count": null,
   "metadata": {},
   "outputs": [],
   "source": []
  },
  {
   "cell_type": "code",
   "execution_count": null,
   "metadata": {},
   "outputs": [],
   "source": [
    "from spacy.lang.de.punctuation import PUNCT, LIST_PUNCT\n",
    "punct = PUNCT\n",
    "punct"
   ]
  }
 ],
 "metadata": {
  "kernelspec": {
   "display_name": "Python 3",
   "language": "python",
   "name": "python3"
  },
  "language_info": {
   "codemirror_mode": {
    "name": "ipython",
    "version": 3
   },
   "file_extension": ".py",
   "mimetype": "text/x-python",
   "name": "python",
   "nbconvert_exporter": "python",
   "pygments_lexer": "ipython3",
   "version": "3.7.7"
  }
 },
 "nbformat": 4,
 "nbformat_minor": 4
}
